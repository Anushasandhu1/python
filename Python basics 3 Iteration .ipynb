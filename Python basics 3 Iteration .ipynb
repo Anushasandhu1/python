{
 "cells": [
  {
   "cell_type": "markdown",
   "metadata": {},
   "source": [
    "## ITERATION\n",
    "Iteration is a processing repeating some task. In a real time programming, we require a set \n",
    "of statements to be repeated certain number of times and/or till a condition is met. Every \n",
    "programming language provides certain constructs to achieve the repetition of tasks. In this \n",
    "section, we will discuss various such looping structures"
   ]
  },
  {
   "cell_type": "markdown",
   "metadata": {},
   "source": [
    " ### The while Statement\n",
    "   The while loop has the syntax as below –\n",
    "\n",
    "\n",
    "      while condition:\n",
    "           statement_1\n",
    "           statement_2\n",
    "           …………….\n",
    "           statement_n\n",
    "      statements_after_while\n",
    "\n",
    "\n",
    "\n",
    "\n",
    "Here, while is a keyword. The condition is evaluated first. Till its value remains true, \n",
    "the statement_1 to statement_n will be executed. When the condition becomes \n",
    "false, the loop is terminated and statements after the loop will be executed. Consider an \n",
    "example –"
   ]
  },
  {
   "cell_type": "raw",
   "metadata": {},
   "source": [
    "n=1\n",
    "while n<=5:\n",
    " print(n) #observe indentation\n",
    " n=n+1\n",
    "print(\"over\")\n",
    "The output of above code segment would be –\n",
    "1\n",
    "2\n",
    "3\n",
    "4\n",
    "5\n",
    "over"
   ]
  },
  {
   "cell_type": "markdown",
   "metadata": {},
   "source": [
    "In the above example, a variable n is initialized to 1. Then the condition n<=5 is being \n",
    "checked. As the condition is true, the block of code containing print statement (print(n))\n",
    "and increment statement (n=n+1) are executed. After these two lines, condition is checked \n",
    "again. The procedure continues till condition becomes false, that is when n becomes 6. \n",
    "Now, the while-loop is terminated and next statement after the loop will be executed. Thus, \n",
    "in this example, the loop is iterated for 5 times. \n",
    "\n",
    "\n",
    "Note that, a variable n is initialized before starting the loop and it is incremented inside the \n",
    "loop. Such a variable that changes its value for every iteration and controls the total \n",
    "execution of the loop is called as iteration variable or counter variable. If the count \n",
    "variable is not updated properly within the loop, then the loop may not terminate and keeps \n",
    "executing infinitely."
   ]
  },
  {
   "cell_type": "markdown",
   "metadata": {},
   "source": [
    "### Infinite Loops, break and continue\n",
    "\n",
    "A loop may execute infinite number of times when the condition is never going to become false. For example- \n",
    "\n",
    "    n = 1\n",
    "    while True:\n",
    "        print(n)\n",
    "        n = n+1\n",
    "\n",
    "\n",
    "Here, the condition specified for the loop is the constant True, which will never get \n",
    "terminated. Sometimes, the condition is given such a way that it will never become false \n",
    "and hence by restricting the program control to go out of the loop. This situation may \n",
    "happen either due to wrong condition or due to not updating the counter variable.\n",
    "\n",
    "In some situations, we deliberately want to come out of the loop even before the normal \n",
    "termination of the loop. For this purpose break statement is used. The following example \n",
    "depicts the usage of break. Here, the values are taken from keyboard until a negative \n",
    "number is entered. Once the input is found to be negative, the loop terminates.\n"
   ]
  },
  {
   "cell_type": "code",
   "execution_count": 1,
   "metadata": {},
   "outputs": [
    {
     "name": "stdout",
     "output_type": "stream",
     "text": [
      "Enter a number:45\n",
      "yes\n",
      "Enter a number:45\n",
      "yes\n",
      "Enter a number:26\n",
      "yes\n",
      "Enter a number:-2\n",
      "no\n"
     ]
    }
   ],
   "source": [
    "while True:\n",
    "    x = int(input(\"Enter a number:\"))\n",
    "    if x >= 0:\n",
    "        print(\"yes\")\n",
    "    else:\n",
    "        print(\"no\")\n",
    "        break"
   ]
  },
  {
   "cell_type": "markdown",
   "metadata": {},
   "source": [
    "In the above example, we have used the constant True as condition for while-loop, which \n",
    "will never become false. So, there was a possibility of infinite loop. This has been avoided by using break statement with a condition. The condition is kept inside the loop such a \n",
    "way that, if the user input is a negative number, the loop terminates. This indicates that, the \n",
    "loop may terminate with just one iteration (if user gives negative number for the very first \n",
    "time) or it may take thousands of iteration (if user keeps on giving only positive numbers as \n",
    "input). Hence, the number of iterations here is unpredictable. But, we are making sure that \n",
    "it will not be an infinite-loop, instead, the user has control on the loop.\n",
    "\n",
    "\n",
    "Sometimes, programmer would like to move to next iteration by skipping few statements in \n",
    "the loop, based on some condition. For this purpose continue statement is used. For \n",
    "example, we would like to find the sum of 5 even numbers taken as input from the \n",
    "keyboard. The logic is –\n",
    "-  Read a number from the keyboard\n",
    "-  If that number is odd, without doing anything else, just move to next iteration for \n",
    "reading another number\n",
    "-  If the number is even, add it to sum and increment the accumulator variable.\n",
    "-  When accumulator crosses 5, stop the program\n"
   ]
  },
  {
   "cell_type": "code",
   "execution_count": 5,
   "metadata": {},
   "outputs": [
    {
     "name": "stdout",
     "output_type": "stream",
     "text": [
      "Enter a number:5\n",
      "Enter a number:5\n",
      "Enter a number:5\n",
      "Enter a number:9\n",
      "Enter a number:8\n",
      "Enter a number:8\n",
      "Enter a number:8\n",
      "Enter a number:8\n",
      "Enter a number:8\n",
      "sum =  40\n"
     ]
    }
   ],
   "source": [
    "# The program for the above task can be written as –\n",
    "\n",
    "count = 0\n",
    "sum = 0\n",
    "\n",
    "while True:\n",
    "    x = int(input(\"Enter a number:\"))\n",
    "    if x%2 != 0:\n",
    "        continue\n",
    "    else:\n",
    "        sum += x\n",
    "        count += 1\n",
    "        \n",
    "        if count == 5:\n",
    "            break\n",
    "        \n",
    "print(\"sum = \", sum)\n",
    "        "
   ]
  },
  {
   "cell_type": "markdown",
   "metadata": {},
   "source": [
    "### Definite Loops using for\n",
    "The while loop iterates till the condition is met and hence, the number of iterations are \n",
    "usually unknown prior to the loop. Hence, it is sometimes called as indefinite loop. When \n",
    "we know total number of times the set of statements to be executed, for loop will be used. \n",
    "This is called as a definite loop. The for-loop iterates over a set of numbers, a set of words, \n",
    "lines in a file etc. The syntax of for-loop would be –\n",
    "\n",
    "     for var in list/sequence:\n",
    "         statement_2\n",
    "         statement_2\n",
    "         .......\n",
    "         statement_n\n",
    "         \n",
    "      statements_after_for"
   ]
  },
  {
   "cell_type": "markdown",
   "metadata": {},
   "source": [
    "- here \"for\" and \"in\" are keywords\n",
    "- list / sequences is a set of elements on which the loop is iterated. that is, the loop will be executed till there is an element in list/sequence\n",
    "- \"statements\" consitutes body of the loop."
   ]
  },
  {
   "cell_type": "markdown",
   "metadata": {},
   "source": [
    "#### Ex: \n",
    "In the below given example, a list names containing three strings has been created. \n",
    "Then the counter variable x in the for-loop iterates over this list. The variable x takes the \n",
    "elements in names one by one and the body of the loop is executed. "
   ]
  },
  {
   "cell_type": "code",
   "execution_count": 6,
   "metadata": {},
   "outputs": [
    {
     "name": "stdout",
     "output_type": "stream",
     "text": [
      "Ram\n",
      "Shyam\n",
      "Bheem\n"
     ]
    }
   ],
   "source": [
    "names = ['Ram', 'Shyam', 'Bheem']\n",
    "for i in names:\n",
    "    print(i)"
   ]
  },
  {
   "cell_type": "markdown",
   "metadata": {},
   "source": [
    "NOTE: In Python, list is an important data type. It can take a sequence of elements of \n",
    "different types. It can take values as a comma separated sequence enclosed within square \n",
    "brackets. Elements in the list can be extracted using index (just similar to extracting array \n",
    "elements in C/C++ language). Various operations like indexing, slicing, merging, addition \n",
    "and deletion of elements etc. can be applied on lists."
   ]
  },
  {
   "cell_type": "code",
   "execution_count": 8,
   "metadata": {},
   "outputs": [],
   "source": [
    "# The for loop can be used to print (or extract) all the characters in a string as shown below -"
   ]
  },
  {
   "cell_type": "code",
   "execution_count": 19,
   "metadata": {},
   "outputs": [
    {
     "name": "stdout",
     "output_type": "stream",
     "text": [
      "H\te\tl\tl\to\t"
     ]
    }
   ],
   "source": [
    "for i in \"Hello\":\n",
    "    print(i, end = '\\t')\n",
    "    \n",
    "# Here, 0 is the default starting value. The statement range(5) is same as range(0,5) and range(0,5,1)."
   ]
  },
  {
   "cell_type": "markdown",
   "metadata": {},
   "source": [
    " - When we have a fixed set of numbers to iterate in a for loop, we can use a function \n",
    "range(). The function range() takes the following format –\n",
    "\n",
    "range(start, end, steps)\n",
    "\n",
    "The start and end indicates starting and ending values in the sequence, where end is \n",
    "excluded in the sequence (That is, sequence is up to end-1). The default value of start\n",
    "is 0. The argument steps indicates the increment/decrement in the values of sequence \n",
    "with the default value as 1. Hence, the argument steps is optional. Let us consider few \n",
    "examples on usage of range() function."
   ]
  },
  {
   "cell_type": "markdown",
   "metadata": {},
   "source": [
    "#### Ex1.\n",
    "Printing the values from 0 to 4 –"
   ]
  },
  {
   "cell_type": "code",
   "execution_count": 20,
   "metadata": {},
   "outputs": [
    {
     "name": "stdout",
     "output_type": "stream",
     "text": [
      "0\n",
      "1\n",
      "2\n",
      "3\n",
      "4\n"
     ]
    }
   ],
   "source": [
    "for i in range(5):\n",
    "    print(i)"
   ]
  },
  {
   "cell_type": "code",
   "execution_count": 16,
   "metadata": {},
   "outputs": [
    {
     "name": "stdout",
     "output_type": "stream",
     "text": [
      "0\t1\t2\t3\t4\t"
     ]
    }
   ],
   "source": [
    "for i in range(5):\n",
    "    print(i, end = '\\t')"
   ]
  },
  {
   "cell_type": "markdown",
   "metadata": {},
   "source": [
    "#### Ex2.\n",
    "Printing the values from 5 to 1"
   ]
  },
  {
   "cell_type": "code",
   "execution_count": 18,
   "metadata": {},
   "outputs": [
    {
     "name": "stdout",
     "output_type": "stream",
     "text": [
      "5\t4\t3\t2\t1\t"
     ]
    }
   ],
   "source": [
    "for i in range(5,0,-1):\n",
    "     print(i, end = '\\t')\n",
    "        \n",
    "# The function range(5,0,-1)indicates that the sequence of values are 5 to 0(excluded) in steps of -1 (downwards)"
   ]
  },
  {
   "cell_type": "markdown",
   "metadata": {},
   "source": [
    "#### Ex3.\n",
    "Printing only even numbers less than 10"
   ]
  },
  {
   "cell_type": "code",
   "execution_count": 21,
   "metadata": {},
   "outputs": [
    {
     "name": "stdout",
     "output_type": "stream",
     "text": [
      "0\t2\t4\t6\t8\t"
     ]
    }
   ],
   "source": [
    "for i in range(0,10,2):\n",
    "    print(i, end = '\\t')"
   ]
  },
  {
   "cell_type": "markdown",
   "metadata": {},
   "source": [
    "### 4 Loop Patterns\n",
    "The while-loop and for-loop are usually used to go through a list of items or the contents of \n",
    "a file and to check maximum or minimum data value. These loops are generally \n",
    "constructed by the following procedure –\n",
    "- Initializing one or more variables before the loop starts\n",
    "- Performing some computation on each item in the loop body, possibly changing the \n",
    "variables in the body of the loop\n",
    "- Looking at the resulting variables when the loop completes\n",
    "\n",
    "The construction of these loop patterns are demonstrated in the following examples - "
   ]
  },
  {
   "cell_type": "markdown",
   "metadata": {},
   "source": [
    "### Counting and Summing Loops: \n",
    "One can use the for loop for counting number of items in the list as shown –"
   ]
  },
  {
   "cell_type": "code",
   "execution_count": 22,
   "metadata": {},
   "outputs": [
    {
     "name": "stdout",
     "output_type": "stream",
     "text": [
      "count: 5\n"
     ]
    }
   ],
   "source": [
    "count = 0\n",
    "for i in [4, -2, 41, 34, 25]:\n",
    "    count = count+1\n",
    "print(\"count:\", count)"
   ]
  },
  {
   "cell_type": "markdown",
   "metadata": {},
   "source": [
    "Here, the variable count is initialized before the loop. Though the counter variable i is not \n",
    "being used inside the body of the loop, it controls the number of iterations. The variable \n",
    "count is incremented in every iteration, and at the end of the loop the total number of \n",
    "elements in the list is stored in it.\n",
    "\n",
    "One more loop similar to the above is finding the sum of elements in the list –"
   ]
  },
  {
   "cell_type": "code",
   "execution_count": 24,
   "metadata": {},
   "outputs": [
    {
     "name": "stdout",
     "output_type": "stream",
     "text": [
      "total:  8\n"
     ]
    }
   ],
   "source": [
    "total= 0\n",
    "for x in [45, 56, 9, -8, 9, 5, 7, 98]:\n",
    "    total += 1\n",
    "print(\"total: \", total)"
   ]
  },
  {
   "cell_type": "code",
   "execution_count": 28,
   "metadata": {},
   "outputs": [
    {
     "name": "stdout",
     "output_type": "stream",
     "text": [
      "total:  221\n"
     ]
    }
   ],
   "source": [
    "total= 0\n",
    "\n",
    "for x in [45, 56, 9, -8, 9, 5, 7, 98]:\n",
    "    total += x\n",
    "\n",
    "print(\"total: \", total)"
   ]
  },
  {
   "cell_type": "raw",
   "metadata": {},
   "source": [
    "Here, the variable total is called as accumulator because in every iteration, it \n",
    "accumulates the sum of elements. In each iteration, this variable contains running total of \n",
    "values so far. \n",
    "\n",
    "NOTE: In practice, both of the counting and summing loops are not necessary, because \n",
    "there are built-in functions len() and sum() for the same tasks respectively."
   ]
  },
  {
   "cell_type": "code",
   "execution_count": 29,
   "metadata": {},
   "outputs": [
    {
     "name": "stdout",
     "output_type": "stream",
     "text": [
      "total:  221\n",
      "count:  8\n"
     ]
    }
   ],
   "source": [
    "total= 0\n",
    "count = 0\n",
    "for x in [45, 56, 9, -8, 9, 5, 7, 98]:\n",
    "    total += x\n",
    "    count += 1\n",
    "print(\"total: \", total)\n",
    "print(\"count: \", count)"
   ]
  },
  {
   "cell_type": "markdown",
   "metadata": {},
   "source": [
    "### Maximum and Minimum Loops: \n",
    "To find maximum element in the list, the following code can be used –"
   ]
  },
  {
   "cell_type": "code",
   "execution_count": 40,
   "metadata": {
    "scrolled": true
   },
   "outputs": [
    {
     "name": "stdout",
     "output_type": "stream",
     "text": [
      "Before Loop: None\n",
      "Iternation Variable: 12 Big: 13\n",
      "Iternation Variable: 0 Big: 13\n",
      "Iternation Variable: 21 Big: 22\n",
      "Iternation Variable: -3 Big: 22\n",
      "Biggest: 22\n"
     ]
    }
   ],
   "source": [
    "big = None\n",
    "print('Before Loop:', big)\n",
    "for x in [12, 0, 21, -3]:\n",
    "    if big is None or x > big :\n",
    "        big = x\n",
    "        big  = big+1\n",
    "    print('Iternation Variable:', x, 'Big:', big)\n",
    "\n",
    "print('Biggest:', big)"
   ]
  },
  {
   "cell_type": "code",
   "execution_count": 45,
   "metadata": {},
   "outputs": [
    {
     "data": {
      "text/plain": [
       "12"
      ]
     },
     "execution_count": 45,
     "metadata": {},
     "output_type": "execute_result"
    }
   ],
   "source": [
    "# OR\n",
    "t = [12,0,4]\n",
    "max(t)"
   ]
  },
  {
   "cell_type": "markdown",
   "metadata": {},
   "source": [
    "Here, we initialize the variable big to None. It is a special constant indicating empty. \n",
    "Hence, we cannot use relational operator == while comparing it with big. Instead, the is\n",
    "operator must be used. In every iteration, the counter variable x is compared with previous \n",
    "value of big. If x > big, then x is assigned to big. \n",
    "\n",
    "Similarly, one can have a loop for finding smallest of elements in the list as given below -"
   ]
  },
  {
   "cell_type": "code",
   "execution_count": 46,
   "metadata": {},
   "outputs": [
    {
     "name": "stdout",
     "output_type": "stream",
     "text": [
      "Before Loop: None\n",
      "iteration variable: 12 small: 12\n",
      "iteration variable: 0 small: 0\n",
      "iteration variable: -3 small: -3\n",
      "smallest: -3\n"
     ]
    }
   ],
   "source": [
    "small = None\n",
    "print(\"Before Loop:\", None)\n",
    "\n",
    "\n",
    "for x in [12, 0, 21, -3]:\n",
    "    if small is None or x < small:\n",
    "        small = x\n",
    "        \n",
    "        \n",
    "        print(\"iteration variable:\", x, 'small:', small)\n",
    "        \n",
    "        \n",
    "print('smallest:', small)\n",
    " "
   ]
  },
  {
   "cell_type": "markdown",
   "metadata": {},
   "source": [
    "NOTE: In Python, there are built-in functions max() and min() to compute maximum and \n",
    "minimum values among. Hence, the above two loops need not be written by the \n",
    "programmer explicitly. The inbuilt function min() has the following code in Python –\n"
   ]
  },
  {
   "cell_type": "code",
   "execution_count": 47,
   "metadata": {},
   "outputs": [],
   "source": [
    "def min(values):\n",
    "    smallest = None\n",
    "    for i in values:\n",
    "        if smallest is None or i < smallest:\n",
    "            smallest = i\n",
    "    return smallest"
   ]
  },
  {
   "cell_type": "markdown",
   "metadata": {},
   "source": [
    "### STRINGS\n",
    "A string is a sequence of characters, enclosed either within a pair of single quotes or \n",
    "double quotes. Each character of a string corresponds to an index number, starting with \n",
    "zero as shown below –\n",
    "\n",
    "S= “Hello World”\n",
    "\n",
    "    character H e l l o   w o r l  d\n",
    "        index 0 1 2 3 4 5 6 7 8 9 10\n",
    "        \n",
    "The characters of a string can be accessed using index enclosed within square brackets. \n",
    "For example - \n",
    "\n",
    "     word1=\"Hello\"\n",
    "     word2='hi'\n",
    "     x=word1[1]       #2nd character of word1 is extracted\n",
    "     print(x)\n",
    "\n",
    "        e\n",
    "\n",
    "    y=word2[0]        #1st character of word1 is extracted\n",
    "    print(y)\n",
    "     \n",
    "        h\n",
    "\n",
    "Python supports negative indexing of string starting from the end of the string as shown \n",
    "below –\n",
    "\n",
    "S= “Hello World”\n",
    "\n",
    "      character        H   e  l  l  o     w  o  r  l  D\n",
    "      Negative index -11 -10 -9 -8 -7 -6 -5 -4 -3 -2 -1\n",
    "\n",
    "\n",
    "The characters can be extracted using negative index also. For example"
   ]
  },
  {
   "cell_type": "code",
   "execution_count": 49,
   "metadata": {},
   "outputs": [
    {
     "name": "stdout",
     "output_type": "stream",
     "text": [
      "o\n"
     ]
    }
   ],
   "source": [
    "var = \"hello\"\n",
    "print(var[-1])"
   ]
  },
  {
   "cell_type": "code",
   "execution_count": 50,
   "metadata": {},
   "outputs": [
    {
     "name": "stdout",
     "output_type": "stream",
     "text": [
      "e\n"
     ]
    }
   ],
   "source": [
    "print(var[-4])"
   ]
  },
  {
   "cell_type": "markdown",
   "metadata": {},
   "source": [
    "####  Getting Length of a String using len()\n",
    "The len() function can be used to get length of a string.\n"
   ]
  },
  {
   "cell_type": "code",
   "execution_count": 51,
   "metadata": {},
   "outputs": [
    {
     "name": "stdout",
     "output_type": "stream",
     "text": [
      "5\n"
     ]
    }
   ],
   "source": [
    "var = \"hello\"\n",
    "ln = len(var)\n",
    "print(ln)"
   ]
  },
  {
   "cell_type": "markdown",
   "metadata": {},
   "source": [
    "#### Traversal through String with a Loop\n",
    "Extracting every character of a string one at a time and then performing some action on \n",
    "that character is known as traversal. A string can be traversed either using while loop or \n",
    "using for loop in different ways. Few of such methods is shown here –\n",
    "\n",
    "#### using got loop:"
   ]
  },
  {
   "cell_type": "code",
   "execution_count": 53,
   "metadata": {},
   "outputs": [
    {
     "name": "stdout",
     "output_type": "stream",
     "text": [
      "h\te\tl\tl\to\t"
     ]
    }
   ],
   "source": [
    "st = \"hello\"\n",
    "for i in st:\n",
    "    print(i, end = '\\t')\n",
    "    \n",
    "\n",
    "# In the above example, the for loop is iterated from first to last character of the string st. \n",
    "# That is, in every iteration, the counter variable i takes the values as H, e, l, l and o. The \n",
    "# loop terminates when no character is left in st.\n"
   ]
  },
  {
   "cell_type": "markdown",
   "metadata": {},
   "source": [
    "#### Using while loop:\n"
   ]
  },
  {
   "cell_type": "code",
   "execution_count": 2,
   "metadata": {},
   "outputs": [
    {
     "name": "stdout",
     "output_type": "stream",
     "text": [
      "h\te\tl\tl\to\t"
     ]
    }
   ],
   "source": [
    "st = 'hello'\n",
    "i = 0\n",
    "\n",
    "while i < len(st):\n",
    "    print(st[i], end = '\\t')\n",
    "    i+=1"
   ]
  },
  {
   "cell_type": "raw",
   "metadata": {},
   "source": [
    "In this example, the variable i is initialized to 0 and it is iterated till the length of the string. In every iteration, the value of i is incremented by 1 and the character in a string is extracted using i as index.\n"
   ]
  },
  {
   "cell_type": "markdown",
   "metadata": {},
   "source": [
    "#### Strings are Immutable\n",
    "The objects of string class are immutable. That is, once the strings are created (or \n",
    "initialized), they cannot be modified. No character in the string can be \n",
    "edited/deleted/added. Instead, one can create a new string using an existing string by \n",
    "imposing any modification required. \n",
    "\n",
    "Try to attempt following assignment- \n",
    "\n",
    "      st = \"hello world\"\n",
    "      st[3] = 't'\n",
    "\n",
    "TypeError: 'str' object does not support item assignment\n",
    "\n",
    "\n",
    "Here, we are trying to change the 4th character (index 3 means, 4th character as the first index is 0) to t. The error message clearly states that an assignment of new item (a string) is not possible on string object. So, to achieve our requirement, we can create a new string  using slices of existing string as below –\n",
    "\n",
    "    st= “Hello World”\n",
    "    st1= st[:3]+ 't' + st[4:]\n",
    "    print(st1)\n",
    "    Helto World        #l is replaced by t in new string st1\n",
    "\n"
   ]
  },
  {
   "cell_type": "markdown",
   "metadata": {},
   "source": [
    "\n",
    "### Looping and Counting\n",
    "Using loops on strings, we can count the frequency of occurrence of a character within \n",
    "another string. The following program demonstrates such a pattern on computation called \n",
    "as a counter. Initially, we accept one string and one character (single letter). Our aim to \n",
    "find the total number of times the character has appeared in string. A variable count is \n",
    "initialized to zero, and incremented each time a character is found. The program is given \n",
    "below –"
   ]
  },
  {
   "cell_type": "code",
   "execution_count": 5,
   "metadata": {},
   "outputs": [
    {
     "name": "stdout",
     "output_type": "stream",
     "text": [
      "Enter a string:hello hoe are you?\n",
      "Enter a character to be counted:h\n",
      "h appeared 2 times in hello hoe are you?\n"
     ]
    }
   ],
   "source": [
    "def countChar(st,ch):\n",
    "    count = 0\n",
    "    for i in st:\n",
    "        if i == ch:\n",
    "            count+=1\n",
    "    return count\n",
    "\n",
    "st = input(\"Enter a string:\")\n",
    "ch=input(\"Enter a character to be counted:\")\n",
    "c=countChar(st,ch)\n",
    "print(\"{0} appeared {1} times in {2}\".format(ch,c,st))\n"
   ]
  },
  {
   "cell_type": "markdown",
   "metadata": {},
   "source": [
    "### The in Operator\n",
    "The in operator of Python is a Boolean operator which takes two string operands. It returns \n",
    "True, if the first operand appears in second operand, otherwise returns False. For example,\n",
    "       "
   ]
  },
  {
   "cell_type": "code",
   "execution_count": 7,
   "metadata": {},
   "outputs": [
    {
     "data": {
      "text/plain": [
       "True"
      ]
     },
     "execution_count": 7,
     "metadata": {},
     "output_type": "execute_result"
    }
   ],
   "source": [
    "'el' in 'hello'          #el is found in hello"
   ]
  },
  {
   "cell_type": "markdown",
   "metadata": {},
   "source": [
    "###  String Comparison\n",
    "Basic comparison operators like < (less than), > (greater than), == (equals) etc. can be \n",
    "applied on string objects. Such comparison results in a Boolean value True or False. \n",
    "Internally, such comparison happens using ASCII codes of respective characters. Consider \n",
    "following examples –\n"
   ]
  },
  {
   "cell_type": "code",
   "execution_count": 9,
   "metadata": {},
   "outputs": [
    {
     "name": "stdout",
     "output_type": "stream",
     "text": [
      "same\n"
     ]
    }
   ],
   "source": [
    "st=\"hello\"\n",
    "if st == 'hello':\n",
    "    print('same')\n",
    "    \n",
    "\n",
    "# Output is same. As the value contained in st and hello both are same, the equality results in True.\n"
   ]
  },
  {
   "cell_type": "markdown",
   "metadata": {},
   "source": [
    "NOTE: A programmer must know ASCII values of some of the basic characters. Here are \n",
    "few –\n",
    "A – Z : 65 – 90\n",
    "a – z : 97 – 122\n",
    "0 – 9 : 48 – 57\n",
    "Space : 32\n",
    "Enter Key : 13"
   ]
  },
  {
   "cell_type": "markdown",
   "metadata": {},
   "source": [
    "### String Methods\n",
    "String is basically a class in Python. When we create a string in our program, an object of \n",
    "that class will be created. A class is a collection of member variables and member methods \n",
    "(or functions). When we create an object of a particular class, the object can use all the \n",
    "members (both variables and methods) of that class. Python provides a rich set of built-in \n",
    "classes for various purposes. Each class is enriched with a useful set of utility functions \n",
    "and variables that can be used by a Programmer. A programmer can create a class based \n",
    "on his/her requirement, which are known as user-defined classes. \n",
    "\n",
    "The built-in set of members of any class can be accessed using the dot operator as \n",
    "shown–\n",
    "            \n",
    "            objName.memberMethod(arguments)\n",
    "\n",
    "The dot operator always binds the member name with the respective object name. This is \n",
    "very essential because, there is a chance that more than one class has members with \n",
    "same name. To avoid that conflict, almost all Object oriented languages have been \n",
    "designed with this common syntax of using dot operator. (Detailed discussion on classes \n",
    "and objects will be done in later Modules.) \n",
    "\n",
    "Python provides a function (or method) dir to list all the variables and methods of a \n",
    "particular class object. Observe the following statements –"
   ]
  },
  {
   "cell_type": "code",
   "execution_count": 12,
   "metadata": {},
   "outputs": [
    {
     "data": {
      "text/plain": [
       "str"
      ]
     },
     "execution_count": 12,
     "metadata": {},
     "output_type": "execute_result"
    }
   ],
   "source": [
    "s = \"hello\"         # string object is created with the name s\n",
    "type(s)             #checking type of s"
   ]
  },
  {
   "cell_type": "code",
   "execution_count": 14,
   "metadata": {},
   "outputs": [
    {
     "data": {
      "text/plain": [
       "['__add__',\n",
       " '__class__',\n",
       " '__contains__',\n",
       " '__delattr__',\n",
       " '__dir__',\n",
       " '__doc__',\n",
       " '__eq__',\n",
       " '__format__',\n",
       " '__ge__',\n",
       " '__getattribute__',\n",
       " '__getitem__',\n",
       " '__getnewargs__',\n",
       " '__gt__',\n",
       " '__hash__',\n",
       " '__init__',\n",
       " '__init_subclass__',\n",
       " '__iter__',\n",
       " '__le__',\n",
       " '__len__',\n",
       " '__lt__',\n",
       " '__mod__',\n",
       " '__mul__',\n",
       " '__ne__',\n",
       " '__new__',\n",
       " '__reduce__',\n",
       " '__reduce_ex__',\n",
       " '__repr__',\n",
       " '__rmod__',\n",
       " '__rmul__',\n",
       " '__setattr__',\n",
       " '__sizeof__',\n",
       " '__str__',\n",
       " '__subclasshook__',\n",
       " 'capitalize',\n",
       " 'casefold',\n",
       " 'center',\n",
       " 'count',\n",
       " 'encode',\n",
       " 'endswith',\n",
       " 'expandtabs',\n",
       " 'find',\n",
       " 'format',\n",
       " 'format_map',\n",
       " 'index',\n",
       " 'isalnum',\n",
       " 'isalpha',\n",
       " 'isascii',\n",
       " 'isdecimal',\n",
       " 'isdigit',\n",
       " 'isidentifier',\n",
       " 'islower',\n",
       " 'isnumeric',\n",
       " 'isprintable',\n",
       " 'isspace',\n",
       " 'istitle',\n",
       " 'isupper',\n",
       " 'join',\n",
       " 'ljust',\n",
       " 'lower',\n",
       " 'lstrip',\n",
       " 'maketrans',\n",
       " 'partition',\n",
       " 'replace',\n",
       " 'rfind',\n",
       " 'rindex',\n",
       " 'rjust',\n",
       " 'rpartition',\n",
       " 'rsplit',\n",
       " 'rstrip',\n",
       " 'split',\n",
       " 'splitlines',\n",
       " 'startswith',\n",
       " 'strip',\n",
       " 'swapcase',\n",
       " 'title',\n",
       " 'translate',\n",
       " 'upper',\n",
       " 'zfill']"
      ]
     },
     "execution_count": 14,
     "metadata": {},
     "output_type": "execute_result"
    }
   ],
   "source": [
    "dir(s)              # display all methods and varibles of obect s"
   ]
  },
  {
   "cell_type": "markdown",
   "metadata": {},
   "source": [
    "Note that, the above set of variables and methods are common for any object of string \n",
    "class that we create. Each built-in method has a predefined set of arguments and return \n",
    "type. To know the usage, working and behavior of any built-in method, one can use the \n",
    "command help. For example, if we would like to know what is the purpose of islower() \n",
    "function (refer above list to check its existence!!), how it behaves etc, we can use the \n",
    "statement –\n"
   ]
  },
  {
   "cell_type": "code",
   "execution_count": 15,
   "metadata": {},
   "outputs": [
    {
     "name": "stdout",
     "output_type": "stream",
     "text": [
      "Help on method_descriptor:\n",
      "\n",
      "islower(self, /)\n",
      "    Return True if the string is a lowercase string, False otherwise.\n",
      "    \n",
      "    A string is lowercase if all cased characters in the string are lowercase and\n",
      "    there is at least one cased character in the string.\n",
      "\n"
     ]
    }
   ],
   "source": [
    "help(str.islower)"
   ]
  },
  {
   "cell_type": "markdown",
   "metadata": {},
   "source": [
    "This is built-in help-service provided by Python. Observe the className.memberName \n",
    "format while using help. \n",
    "\n",
    "The methods are usually called using the object name. This is known as method \n",
    "invocation. We say that a method is invoked using an object.\n",
    "\n",
    "Now, we will discuss some of the important methods of string class.\n",
    "- capitalize(s) : This function takes one string argument s and returns a capitalized \n",
    "version of that string. That is, the first character of s is converted to upper case, and all \n",
    "other characters to lowercase. Observe the examples given below –"
   ]
  },
  {
   "cell_type": "code",
   "execution_count": 21,
   "metadata": {},
   "outputs": [
    {
     "name": "stdout",
     "output_type": "stream",
     "text": [
      "Hello\n"
     ]
    }
   ],
   "source": [
    "s = \"hello\"\n",
    "s1 = str.capitalize(s)\n",
    "print(s1)"
   ]
  },
  {
   "cell_type": "markdown",
   "metadata": {},
   "source": [
    "- s.upper(): This function returns a copy of a string s to uppercase. as strings are immutable, the original string s will remain same."
   ]
  },
  {
   "cell_type": "code",
   "execution_count": 22,
   "metadata": {},
   "outputs": [
    {
     "data": {
      "text/plain": [
       "'HELLO'"
      ]
     },
     "execution_count": 22,
     "metadata": {},
     "output_type": "execute_result"
    }
   ],
   "source": [
    "st = \"hello\"\n",
    "st.upper()"
   ]
  },
  {
   "cell_type": "code",
   "execution_count": 23,
   "metadata": {},
   "outputs": [
    {
     "data": {
      "text/plain": [
       "'hello'"
      ]
     },
     "execution_count": 23,
     "metadata": {},
     "output_type": "execute_result"
    }
   ],
   "source": [
    "#This method is used to convert a string s to lowercase.\n",
    "\n",
    "st = \"hello\"      \n",
    "st.lower()             "
   ]
  },
  {
   "cell_type": "markdown",
   "metadata": {},
   "source": [
    "- s.find(s1) : The find() function is used to search for a substring s1 in the string s. If \n",
    "found, the index position of first occurrence of s1 in s, is returned. If s1 is not found in s, \n",
    "then -1 is returned"
   ]
  },
  {
   "cell_type": "code",
   "execution_count": 24,
   "metadata": {},
   "outputs": [
    {
     "data": {
      "text/plain": [
       "3"
      ]
     },
     "execution_count": 24,
     "metadata": {},
     "output_type": "execute_result"
    }
   ],
   "source": [
    "st = 'hello'\n",
    "st.find('lo')"
   ]
  },
  {
   "cell_type": "code",
   "execution_count": 25,
   "metadata": {},
   "outputs": [
    {
     "data": {
      "text/plain": [
       "2"
      ]
     },
     "execution_count": 25,
     "metadata": {},
     "output_type": "execute_result"
    }
   ],
   "source": [
    "st.find('l')"
   ]
  },
  {
   "cell_type": "code",
   "execution_count": 27,
   "metadata": {},
   "outputs": [
    {
     "data": {
      "text/plain": [
       "-1"
      ]
     },
     "execution_count": 27,
     "metadata": {},
     "output_type": "execute_result"
    }
   ],
   "source": [
    "st.find('t')"
   ]
  },
  {
   "cell_type": "markdown",
   "metadata": {},
   "source": [
    "- The find() function can take one more form with two additional arguments viz. start \n",
    "and end positions for search."
   ]
  },
  {
   "cell_type": "code",
   "execution_count": 29,
   "metadata": {},
   "outputs": [
    {
     "name": "stdout",
     "output_type": "stream",
     "text": [
      "0\n"
     ]
    }
   ],
   "source": [
    "st=\"calender of Feb. cal of march\"\n",
    "i= st.find('cal')\n",
    "print(i) #output is 0"
   ]
  },
  {
   "cell_type": "code",
   "execution_count": 33,
   "metadata": {},
   "outputs": [
    {
     "name": "stdout",
     "output_type": "stream",
     "text": [
      "17\n"
     ]
    }
   ],
   "source": [
    " # Here, the substring ‘cal’ is found in the very first position of st, hence the result is 0.\n",
    "\n",
    "i=st.find('cal',10,20)\n",
    "print(i)     #output is 17\n",
    "\n",
    "# Here, the substring cal is searched in the string st between 10th and 20th position and \n",
    "# hence the result is 17."
   ]
  },
  {
   "cell_type": "code",
   "execution_count": 35,
   "metadata": {},
   "outputs": [
    {
     "name": "stdout",
     "output_type": "stream",
     "text": [
      "-1\n"
     ]
    }
   ],
   "source": [
    "i=st.find('cal',10,15)\n",
    "print(i) #ouput is -1\n",
    "\n",
    "# In this example, the substring 'cal' has not appeared between 10th and 15th\n",
    "# character of st. Hence, the result is -1.\n"
   ]
  },
  {
   "cell_type": "code",
   "execution_count": 37,
   "metadata": {},
   "outputs": [
    {
     "name": "stdout",
     "output_type": "stream",
     "text": [
      "Hello\n"
     ]
    }
   ],
   "source": [
    "# The strip() function can be used with an argument chars, so that specified chars are \n",
    "# removed from beginning or ending of s as shown below –\n",
    "\n",
    "\n",
    "st=\"###Hello##\"\n",
    "st1=st.strip('#')\n",
    "print(st1) #all hash symbols are removed\n"
   ]
  },
  {
   "cell_type": "markdown",
   "metadata": {},
   "source": [
    "- S.startswith(prefix, start, end): This function has 3 arguments of which start and end \n",
    "are option. This function returns True if S starts with the specified prefix, False \n",
    "otherwise.\n"
   ]
  },
  {
   "cell_type": "code",
   "execution_count": 38,
   "metadata": {},
   "outputs": [
    {
     "data": {
      "text/plain": [
       "False"
      ]
     },
     "execution_count": 38,
     "metadata": {},
     "output_type": "execute_result"
    }
   ],
   "source": [
    "t=\"hello world\"\n",
    "st.startswith(\"he\") #returns True\n"
   ]
  },
  {
   "cell_type": "code",
   "execution_count": 40,
   "metadata": {},
   "outputs": [],
   "source": [
    "# When start argument is provided, the search begins from that position and returns True \n",
    "# or False based on search result."
   ]
  },
  {
   "cell_type": "code",
   "execution_count": 39,
   "metadata": {},
   "outputs": [
    {
     "data": {
      "text/plain": [
       "True"
      ]
     },
     "execution_count": 39,
     "metadata": {},
     "output_type": "execute_result"
    }
   ],
   "source": [
    "st=\"hello world\"\n",
    "st.startswith(\"w\",6) #True because w is at 6th position\n"
   ]
  },
  {
   "cell_type": "code",
   "execution_count": null,
   "metadata": {},
   "outputs": [],
   "source": []
  }
 ],
 "metadata": {
  "kernelspec": {
   "display_name": "Python 3",
   "language": "python",
   "name": "python3"
  },
  "language_info": {
   "codemirror_mode": {
    "name": "ipython",
    "version": 3
   },
   "file_extension": ".py",
   "mimetype": "text/x-python",
   "name": "python",
   "nbconvert_exporter": "python",
   "pygments_lexer": "ipython3",
   "version": "3.8.5"
  }
 },
 "nbformat": 4,
 "nbformat_minor": 4
}
